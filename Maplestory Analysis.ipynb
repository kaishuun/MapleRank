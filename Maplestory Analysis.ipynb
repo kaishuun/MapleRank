{
 "cells": [
  {
   "cell_type": "code",
   "execution_count": 1,
   "metadata": {},
   "outputs": [
    {
     "name": "stderr",
     "output_type": "stream",
     "text": [
      "Warning message:\n",
      "\"package 'tidyverse' was built under R version 3.6.3\"-- Attaching packages --------------------------------------- tidyverse 1.3.0 --\n",
      "v ggplot2 3.3.0     v purrr   0.3.4\n",
      "v tibble  3.0.1     v dplyr   0.8.5\n",
      "v tidyr   1.0.3     v stringr 1.4.0\n",
      "v readr   1.3.1     v forcats 0.5.0\n",
      "Warning message:\n",
      "\"package 'ggplot2' was built under R version 3.6.3\"Warning message:\n",
      "\"package 'tibble' was built under R version 3.6.3\"Warning message:\n",
      "\"package 'tidyr' was built under R version 3.6.3\"Warning message:\n",
      "\"package 'readr' was built under R version 3.6.3\"Warning message:\n",
      "\"package 'purrr' was built under R version 3.6.3\"Warning message:\n",
      "\"package 'dplyr' was built under R version 3.6.3\"Warning message:\n",
      "\"package 'stringr' was built under R version 3.6.3\"Warning message:\n",
      "\"package 'forcats' was built under R version 3.6.3\"-- Conflicts ------------------------------------------ tidyverse_conflicts() --\n",
      "x dplyr::filter() masks stats::filter()\n",
      "x dplyr::lag()    masks stats::lag()\n"
     ]
    }
   ],
   "source": [
    "library(tidyverse)"
   ]
  },
  {
   "cell_type": "code",
   "execution_count": 2,
   "metadata": {},
   "outputs": [
    {
     "name": "stderr",
     "output_type": "stream",
     "text": [
      "Parsed with column specification:\n",
      "cols(\n",
      "  Rank = col_double(),\n",
      "  `Character Name` = col_character(),\n",
      "  World = col_character(),\n",
      "  Job = col_character(),\n",
      "  `Level/Move` = col_double()\n",
      ")\n"
     ]
    },
    {
     "data": {
      "text/html": [
       "<table>\n",
       "<thead><tr><th scope=col>Rank</th><th scope=col>Character Name</th><th scope=col>World</th><th scope=col>Job</th><th scope=col>Level/Move</th></tr></thead>\n",
       "<tbody>\n",
       "\t<tr><td>1         </td><td>Ancestra  </td><td>reboot    </td><td>Evan      </td><td>275       </td></tr>\n",
       "\t<tr><td>2         </td><td>Sleepable </td><td>reboot    </td><td>Kanna     </td><td>275       </td></tr>\n",
       "\t<tr><td>3         </td><td>Lapy      </td><td>reboot    </td><td>Luminous  </td><td>275       </td></tr>\n",
       "\t<tr><td>4         </td><td>SuchADupa </td><td>reboot    </td><td>Thief     </td><td>275       </td></tr>\n",
       "\t<tr><td>5         </td><td>Howurd    </td><td>reboot    </td><td>Dual Blade</td><td>275       </td></tr>\n",
       "\t<tr><td>6         </td><td>Howurd    </td><td>reboot    </td><td>Dual Blade</td><td>275       </td></tr>\n",
       "</tbody>\n",
       "</table>\n"
      ],
      "text/latex": [
       "\\begin{tabular}{r|lllll}\n",
       " Rank & Character Name & World & Job & Level/Move\\\\\n",
       "\\hline\n",
       "\t 1          & Ancestra   & reboot     & Evan       & 275       \\\\\n",
       "\t 2          & Sleepable  & reboot     & Kanna      & 275       \\\\\n",
       "\t 3          & Lapy       & reboot     & Luminous   & 275       \\\\\n",
       "\t 4          & SuchADupa  & reboot     & Thief      & 275       \\\\\n",
       "\t 5          & Howurd     & reboot     & Dual Blade & 275       \\\\\n",
       "\t 6          & Howurd     & reboot     & Dual Blade & 275       \\\\\n",
       "\\end{tabular}\n"
      ],
      "text/markdown": [
       "\n",
       "| Rank | Character Name | World | Job | Level/Move |\n",
       "|---|---|---|---|---|\n",
       "| 1          | Ancestra   | reboot     | Evan       | 275        |\n",
       "| 2          | Sleepable  | reboot     | Kanna      | 275        |\n",
       "| 3          | Lapy       | reboot     | Luminous   | 275        |\n",
       "| 4          | SuchADupa  | reboot     | Thief      | 275        |\n",
       "| 5          | Howurd     | reboot     | Dual Blade | 275        |\n",
       "| 6          | Howurd     | reboot     | Dual Blade | 275        |\n",
       "\n"
      ],
      "text/plain": [
       "  Rank Character Name World  Job        Level/Move\n",
       "1 1    Ancestra       reboot Evan       275       \n",
       "2 2    Sleepable      reboot Kanna      275       \n",
       "3 3    Lapy           reboot Luminous   275       \n",
       "4 4    SuchADupa      reboot Thief      275       \n",
       "5 5    Howurd         reboot Dual Blade 275       \n",
       "6 6    Howurd         reboot Dual Blade 275       "
      ]
     },
     "metadata": {},
     "output_type": "display_data"
    }
   ],
   "source": [
    "df = read_csv(\"Maplestory Rank data.csv\")\n",
    "\n",
    "#filters to level 205 and above only\n",
    "df <- df %>% filter(`Level/Move` >= 205)\n",
    "head(df)"
   ]
  },
  {
   "cell_type": "code",
   "execution_count": 3,
   "metadata": {},
   "outputs": [
    {
     "data": {
      "image/png": "[encoded data removed]",
      "text/plain": [
       "plot without title"
      ]
     },
     "metadata": {},
     "output_type": "display_data"
    }
   ],
   "source": [
    "#distribution between worlds\n",
    "#df %>% group_by(World) %>% count(World) %>% ggplot(aes(x=World, y = n))\n",
    "df %>% ggplot(aes(x=factor(World))) + geom_bar() + xlab(\"World\") + ylab(\"Population over 205\") + ggtitle(\"Frequencey of levels over 205 in nonreboot\")"
   ]
  },
  {
   "cell_type": "code",
   "execution_count": 4,
   "metadata": {},
   "outputs": [
    {
     "data": {
      "image/png": "[encoded data removed]",
      "text/plain": [
       "Plot with title \"Frequence of levels over 205 in reboot\""
      ]
     },
     "metadata": {},
     "output_type": "display_data"
    }
   ],
   "source": [
    "nonreboot <- df %>% filter(World == \"reboot\")\n",
    "nonreboot$`Level/Move` %>% hist(xlab = \"Levels\", ylab = \"Frequence\", main = \"Frequence of levels over 205 in reboot\", breaks = 14 )"
   ]
  },
  {
   "cell_type": "code",
   "execution_count": 5,
   "metadata": {},
   "outputs": [],
   "source": [
    "#Maximum Level of each character in each world\n",
    "book1 <- df %>% select(-Rank,-`Character Name`) %>% group_by(World,Job) %>% summarize(`Max Level` = max(`Level/Move`))"
   ]
  },
  {
   "cell_type": "code",
   "execution_count": 6,
   "metadata": {},
   "outputs": [],
   "source": [
    "#Character popularity per world\n",
    "book2 <- df %>% group_by(World,Job) %>% mutate(temp = 1) %>% summarize(Players = sum(temp)) %>% ungroup() %>% group_by(World) %>% mutate(Percentage = Players/sum(Players))"
   ]
  },
  {
   "cell_type": "code",
   "execution_count": 8,
   "metadata": {},
   "outputs": [],
   "source": [
    "mage <- c(\"Battle Mage\",\"Beast Tamer\",\"Blaze Wizard\",\"Evan\",\"Kanna\",\"Luminous\",\"Magician\",\"Kinesis\",\"Illium\")\n",
    "thief <- c(\"Dual Blade\",\"Night Walker\",\"Phantom\",\"Thief\",\"Xenon\",\"Cadena\",\"Hoyoung\")\n",
    "warrior <- c(\"Aran\",\"Dawn Warrior\",\"Demon Avenger\",\"Demon Slayer\",\"Hayato\",\"Kaiser\",\"Mihile\",\"Warrior\",\"Zero\",\"Blaster\")\n",
    "bowman <- c(\"Bowman, Wild Hunter\",\"Wind Archer\",\"Mercedes\",\"Pathfinder\")\n",
    "pirate <- c(\"Angelic Buster\",\"Cannoneer\",\"Jett\",\"Mechanic\",\"Pirate\",\"Shade\",\"Thunder Breaker\",\"Ark\")\n",
    "classes <- c(mage,thief,warrior,bowman,pirate)\n",
    "names <- c(\"mage\",\"thief\",\"warrior\",\"bowman\",\"pirate\")"
   ]
  },
  {
   "cell_type": "code",
   "execution_count": 51,
   "metadata": {},
   "outputs": [
    {
     "data": {
      "text/html": [
       "<table>\n",
       "<thead><tr><th scope=col>Job</th><th scope=col>Popularity</th></tr></thead>\n",
       "<tbody>\n",
       "\t<tr><td>bowman </td><td> 4757  </td></tr>\n",
       "\t<tr><td>mage   </td><td> 1810  </td></tr>\n",
       "\t<tr><td>pirate </td><td>25487  </td></tr>\n",
       "\t<tr><td>thief  </td><td> 2951  </td></tr>\n",
       "\t<tr><td>warrior</td><td> 5681  </td></tr>\n",
       "</tbody>\n",
       "</table>\n"
      ],
      "text/latex": [
       "\\begin{tabular}{r|ll}\n",
       " Job & Popularity\\\\\n",
       "\\hline\n",
       "\t bowman  &  4757  \\\\\n",
       "\t mage    &  1810  \\\\\n",
       "\t pirate  & 25487  \\\\\n",
       "\t thief   &  2951  \\\\\n",
       "\t warrior &  5681  \\\\\n",
       "\\end{tabular}\n"
      ],
      "text/markdown": [
       "\n",
       "| Job | Popularity |\n",
       "|---|---|\n",
       "| bowman  |  4757   |\n",
       "| mage    |  1810   |\n",
       "| pirate  | 25487   |\n",
       "| thief   |  2951   |\n",
       "| warrior |  5681   |\n",
       "\n"
      ],
      "text/plain": [
       "  Job     Popularity\n",
       "1 bowman   4757     \n",
       "2 mage     1810     \n",
       "3 pirate  25487     \n",
       "4 thief    2951     \n",
       "5 warrior  5681     "
      ]
     },
     "metadata": {},
     "output_type": "display_data"
    },
    {
     "data": {
      "image/png": "[encoded data removed]",
      "text/plain": [
       "plot without title"
      ]
     },
     "metadata": {},
     "output_type": "display_data"
    }
   ],
   "source": [
    "#there is an error here and idk where\n",
    "jobgroup = data.frame()\n",
    "\n",
    "for(i in 1:length(names)){\n",
    "    temp <-df %>% filter(Job %in% classes[i]) %>% mutate(Job = names[i])\n",
    "    jobgroup <- rbind(jobgroup,temp)\n",
    "\n",
    "}\n",
    "jobpop <- jobgroup %>% mutate(temp = 1) %>% group_by(Job) %>% summarize(Popularity = sum(temp))\n",
    "pie(jobpop$Popularity,jobpop$Job)\n",
    "jobpop"
   ]
  },
  {
   "cell_type": "code",
   "execution_count": 56,
   "metadata": {},
   "outputs": [
    {
     "data": {
      "text/html": [
       "'pirate'"
      ],
      "text/latex": [
       "'pirate'"
      ],
      "text/markdown": [
       "'pirate'"
      ],
      "text/plain": [
       "[1] \"pirate\""
      ]
     },
     "metadata": {},
     "output_type": "display_data"
    }
   ],
   "source": []
  }
 ],
 "metadata": {
  "kernelspec": {
   "display_name": "R",
   "language": "R",
   "name": "ir"
  },
  "language_info": {
   "codemirror_mode": "r",
   "file_extension": ".r",
   "mimetype": "text/x-r-source",
   "name": "R",
   "pygments_lexer": "r",
   "version": "3.6.1"
  }
 },
 "nbformat": 4,
 "nbformat_minor": 4
}
